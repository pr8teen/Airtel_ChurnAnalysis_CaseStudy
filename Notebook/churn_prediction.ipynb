{
  "cells": [
    {
      "cell_type": "code",
      "source": [
        "# Importing Libraries & Data Load\n",
        "import pandas as pd\n",
        "import numpy as np\n",
        "\n",
        "import matplotlib.pyplot as plt\n",
        "import seaborn as sns\n",
        "\n",
        "from sklearn.model_selection import train_test_split\n",
        "from sklearn.ensemble import RandomForestClassifier\n",
        "from sklearn.metrics import classification_report, confusion_matrix\n",
        "from sklearn.preprocessing import LabelEncoder\n",
        "import joblib # For saving/loading models if needed"
      ],
      "metadata": {
        "id": "VbIqvSVR6pEF"
      },
      "execution_count": 1,
      "outputs": []
    },
    {
      "cell_type": "code",
      "source": [
        "# --- Data Loading ---\n",
        "# Define the path to your CSV files (replace 'yourusername' with your actual username)\n",
        "# Using 'vw_ChurnData' for model training\n",
        "file_path_churn_data = \"/churn_analysis/vw_ChurnData.csv\"\n",
        "# Using 'vw_JoinData' for new predictions\n",
        "file_path_join_data = \"/churn_analysis/vw_JoinData.csv\""
      ],
      "metadata": {
        "id": "FPQiuBVh7Qn0"
      },
      "execution_count": 2,
      "outputs": []
    },
    {
      "cell_type": "code",
      "source": [
        "# Read the data from the specified CSV into a pandas DataFrame\n",
        "# Note: pd.read_excel is changed to pd.read_csv\n",
        "data = pd.read_csv(file_path_churn_data)"
      ],
      "metadata": {
        "id": "eizrbPif7mU1"
      },
      "execution_count": 3,
      "outputs": []
    },
    {
      "cell_type": "code",
      "source": [
        "# Display the first few rows of the fetched data\n",
        "print(\"--- Training Data (vw_ChurnData) Head ---\")\n",
        "print(data.head())\n",
        "print(\"\\n--- Data Info ---\")\n",
        "data.info()\n",
        "print(\"\\n--- Missing Values Check ---\")\n",
        "print(data.isnull().sum())"
      ],
      "metadata": {
        "id": "Dzd6uNVq7oyq",
        "outputId": "bf2e2f89-b90c-4663-bf0a-ebcc9bd357c6",
        "colab": {
          "base_uri": "https://localhost:8080/"
        }
      },
      "execution_count": 4,
      "outputs": [
        {
          "output_type": "stream",
          "name": "stdout",
          "text": [
            "--- Training Data (vw_ChurnData) Head ---\n",
            "  customer_id  gender  age married        state  number_of_referrals  \\\n",
            "0   19877-DEL    Male   35      No        Delhi                    7   \n",
            "1   58353-MAH  Female   45     Yes  Maharashtra                   14   \n",
            "2   25063-WES    Male   51      No  West Bengal                    4   \n",
            "3   59787-KAR    Male   79      No    Karnataka                    3   \n",
            "4   28544-TAM  Female   80      No   Tamil Nadu                    3   \n",
            "\n",
            "   tenure_in_months value_deal phone_service multiple_lines  ...  \\\n",
            "0                27        NaN           Yes             No  ...   \n",
            "1                13        NaN           Yes            Yes  ...   \n",
            "2                35     Deal 5           Yes             No  ...   \n",
            "3                21     Deal 4           Yes             No  ...   \n",
            "4                 8        NaN           Yes             No  ...   \n",
            "\n",
            "    payment_method monthly_charge total_charges total_refunds  \\\n",
            "0      Credit Card           65.6        593.30          0.00   \n",
            "1      Credit Card           -4.0        542.40         38.33   \n",
            "2  Bank Withdrawal           73.9        280.85          0.00   \n",
            "3  Bank Withdrawal           98.0       1237.85          0.00   \n",
            "4      Credit Card           83.9        267.40          0.00   \n",
            "\n",
            "  total_extra_data_charges total_long_distance_charges total_revenue  \\\n",
            "0                      0.0                      381.51        974.81   \n",
            "1                     10.0                       96.21        610.28   \n",
            "2                      0.0                      134.60        415.45   \n",
            "3                      0.0                      361.66       1599.51   \n",
            "4                      0.0                       22.14        289.54   \n",
            "\n",
            "  customer_status   churn_category                   churn_reason  \n",
            "0          Stayed           Others                         Others  \n",
            "1          Stayed           Others                         Others  \n",
            "2         Churned       Competitor  Competitor had better devices  \n",
            "3         Churned  Dissatisfaction        Product dissatisfaction  \n",
            "4         Churned  Dissatisfaction            Network reliability  \n",
            "\n",
            "[5 rows x 32 columns]\n",
            "\n",
            "--- Data Info ---\n",
            "<class 'pandas.core.frame.DataFrame'>\n",
            "RangeIndex: 6007 entries, 0 to 6006\n",
            "Data columns (total 32 columns):\n",
            " #   Column                       Non-Null Count  Dtype  \n",
            "---  ------                       --------------  -----  \n",
            " 0   customer_id                  6007 non-null   object \n",
            " 1   gender                       6007 non-null   object \n",
            " 2   age                          6007 non-null   int64  \n",
            " 3   married                      6007 non-null   object \n",
            " 4   state                        6007 non-null   object \n",
            " 5   number_of_referrals          6007 non-null   int64  \n",
            " 6   tenure_in_months             6007 non-null   int64  \n",
            " 7   value_deal                   2710 non-null   object \n",
            " 8   phone_service                6007 non-null   object \n",
            " 9   multiple_lines               6007 non-null   object \n",
            " 10  internet_service             6007 non-null   object \n",
            " 11  internet_type                4784 non-null   object \n",
            " 12  online_security              6007 non-null   object \n",
            " 13  online_backup                6007 non-null   object \n",
            " 14  device_protection_plan       6007 non-null   object \n",
            " 15  premium_support              6007 non-null   object \n",
            " 16  streaming_tv                 6007 non-null   object \n",
            " 17  streaming_movies             6007 non-null   object \n",
            " 18  streaming_music              6007 non-null   object \n",
            " 19  unlimited_data               6007 non-null   object \n",
            " 20  contract                     6007 non-null   object \n",
            " 21  paperless_billing            6007 non-null   object \n",
            " 22  payment_method               6007 non-null   object \n",
            " 23  monthly_charge               6007 non-null   float64\n",
            " 24  total_charges                6007 non-null   float64\n",
            " 25  total_refunds                6007 non-null   float64\n",
            " 26  total_extra_data_charges     6007 non-null   float64\n",
            " 27  total_long_distance_charges  6007 non-null   float64\n",
            " 28  total_revenue                6007 non-null   float64\n",
            " 29  customer_status              6007 non-null   object \n",
            " 30  churn_category               6007 non-null   object \n",
            " 31  churn_reason                 6007 non-null   object \n",
            "dtypes: float64(6), int64(3), object(23)\n",
            "memory usage: 1.5+ MB\n",
            "\n",
            "--- Missing Values Check ---\n",
            "customer_id                       0\n",
            "gender                            0\n",
            "age                               0\n",
            "married                           0\n",
            "state                             0\n",
            "number_of_referrals               0\n",
            "tenure_in_months                  0\n",
            "value_deal                     3297\n",
            "phone_service                     0\n",
            "multiple_lines                    0\n",
            "internet_service                  0\n",
            "internet_type                  1223\n",
            "online_security                   0\n",
            "online_backup                     0\n",
            "device_protection_plan            0\n",
            "premium_support                   0\n",
            "streaming_tv                      0\n",
            "streaming_movies                  0\n",
            "streaming_music                   0\n",
            "unlimited_data                    0\n",
            "contract                          0\n",
            "paperless_billing                 0\n",
            "payment_method                    0\n",
            "monthly_charge                    0\n",
            "total_charges                     0\n",
            "total_refunds                     0\n",
            "total_extra_data_charges          0\n",
            "total_long_distance_charges       0\n",
            "total_revenue                     0\n",
            "customer_status                   0\n",
            "churn_category                    0\n",
            "churn_reason                      0\n",
            "dtype: int64\n"
          ]
        }
      ]
    },
    {
      "cell_type": "code",
      "source": [
        "# --- ADD THIS LINE TO INSPECT COLUMNS ---\n",
        "print(\"Columns in the DataFrame:\", data.columns)\n",
        "# ----------------------------------------"
      ],
      "metadata": {
        "id": "Qd9Kf6Xq7rTS",
        "outputId": "effceb77-ed7d-40af-e8cf-58903b260635",
        "colab": {
          "base_uri": "https://localhost:8080/"
        }
      },
      "execution_count": 7,
      "outputs": [
        {
          "output_type": "stream",
          "name": "stdout",
          "text": [
            "Columns in the DataFrame: Index(['customer_id', 'gender', 'age', 'married', 'state',\n",
            "       'number_of_referrals', 'tenure_in_months', 'value_deal',\n",
            "       'phone_service', 'multiple_lines', 'internet_service', 'internet_type',\n",
            "       'online_security', 'online_backup', 'device_protection_plan',\n",
            "       'premium_support', 'streaming_tv', 'streaming_movies',\n",
            "       'streaming_music', 'unlimited_data', 'contract', 'paperless_billing',\n",
            "       'payment_method', 'monthly_charge', 'total_charges', 'total_refunds',\n",
            "       'total_extra_data_charges', 'total_long_distance_charges',\n",
            "       'total_revenue', 'customer_status', 'churn_category', 'churn_reason'],\n",
            "      dtype='object')\n"
          ]
        }
      ]
    },
    {
      "cell_type": "code",
      "source": [
        "# Display the first few rows of the fetched data\n",
        "print(\"--- Training Data (vw_ChurnData) Head ---\")\n",
        "print(data.head())"
      ],
      "metadata": {
        "id": "Ioz7_2267wTX",
        "outputId": "5c37ae26-ec40-4761-bfcb-cc606bafc276",
        "colab": {
          "base_uri": "https://localhost:8080/"
        }
      },
      "execution_count": 8,
      "outputs": [
        {
          "output_type": "stream",
          "name": "stdout",
          "text": [
            "--- Training Data (vw_ChurnData) Head ---\n",
            "  customer_id  gender  age married        state  number_of_referrals  \\\n",
            "0   19877-DEL    Male   35      No        Delhi                    7   \n",
            "1   58353-MAH  Female   45     Yes  Maharashtra                   14   \n",
            "2   25063-WES    Male   51      No  West Bengal                    4   \n",
            "3   59787-KAR    Male   79      No    Karnataka                    3   \n",
            "4   28544-TAM  Female   80      No   Tamil Nadu                    3   \n",
            "\n",
            "   tenure_in_months value_deal phone_service multiple_lines  ...  \\\n",
            "0                27        NaN           Yes             No  ...   \n",
            "1                13        NaN           Yes            Yes  ...   \n",
            "2                35     Deal 5           Yes             No  ...   \n",
            "3                21     Deal 4           Yes             No  ...   \n",
            "4                 8        NaN           Yes             No  ...   \n",
            "\n",
            "    payment_method monthly_charge total_charges total_refunds  \\\n",
            "0      Credit Card           65.6        593.30          0.00   \n",
            "1      Credit Card           -4.0        542.40         38.33   \n",
            "2  Bank Withdrawal           73.9        280.85          0.00   \n",
            "3  Bank Withdrawal           98.0       1237.85          0.00   \n",
            "4      Credit Card           83.9        267.40          0.00   \n",
            "\n",
            "  total_extra_data_charges total_long_distance_charges total_revenue  \\\n",
            "0                      0.0                      381.51        974.81   \n",
            "1                     10.0                       96.21        610.28   \n",
            "2                      0.0                      134.60        415.45   \n",
            "3                      0.0                      361.66       1599.51   \n",
            "4                      0.0                       22.14        289.54   \n",
            "\n",
            "  customer_status   churn_category                   churn_reason  \n",
            "0          Stayed           Others                         Others  \n",
            "1          Stayed           Others                         Others  \n",
            "2         Churned       Competitor  Competitor had better devices  \n",
            "3         Churned  Dissatisfaction        Product dissatisfaction  \n",
            "4         Churned  Dissatisfaction            Network reliability  \n",
            "\n",
            "[5 rows x 32 columns]\n"
          ]
        }
      ]
    },
    {
      "cell_type": "code",
      "source": [
        "# --- Data Preprocessing for Training ---\n",
        "# Drop columns that won't be used for prediction in the training set\n",
        "# Churn_Category and Churn_Reason are target-related and not features.\n",
        "# Customer_ID is an identifier, not a feature.\n",
        "data = data.drop(['customer_id', 'churn_category', 'churn_reason'], axis=1)\n",
        "\n",
        "print(data.head())"
      ],
      "metadata": {
        "id": "So2Ao1SH8KWW"
      },
      "execution_count": null,
      "outputs": []
    },
    {
      "cell_type": "code",
      "source": [
        "# List of columns to be label encoded (all corrected to snake_case)\n",
        "columns_to_encode = [\n",
        "    'gender', 'married', 'state', 'value_deal', 'phone_service', 'multiple_lines',\n",
        "    'internet_service', 'internet_type', 'online_security', 'online_backup',\n",
        "    'device_protection_plan', 'premium_support', 'streaming_tv', 'streaming_movies',\n",
        "    'streaming_music', 'unlimited_data', 'contract', 'paperless_billing',\n",
        "    'payment_method'\n",
        "]\n",
        "\n",
        "# Create a copy of the data for encoding, to avoid SettingWithCopyWarning\n",
        "data_encoded = data.copy()\n",
        "\n",
        "# Encode categorical variables except the target variable\n",
        "label_encoders = {}\n",
        "for column in columns_to_encode:\n",
        "    # Ensure the column exists and has a compatible dtype\n",
        "    if column in data_encoded.columns and data_encoded[column].dtype == 'object':\n",
        "        label_encoders[column] = LabelEncoder()\n",
        "        data_encoded[column] = label_encoders[column].fit_transform(data_encoded[column])\n",
        "    else:\n",
        "        print(f\"Warning: Column '{column}' not found or not of object dtype. Skipping encoding.\")\n",
        "\n",
        "print(\"\\n--- Data after encoding features ---\")\n",
        "print(data_encoded.head())"
      ],
      "metadata": {
        "id": "Pm8Pyxol8ZCC",
        "outputId": "e27b5455-5e55-478e-e0bc-9ee386fb8ceb",
        "colab": {
          "base_uri": "https://localhost:8080/"
        }
      },
      "execution_count": 13,
      "outputs": [
        {
          "output_type": "stream",
          "name": "stdout",
          "text": [
            "\n",
            "--- Data after encoding features ---\n",
            "   gender  age  married  state  number_of_referrals  tenure_in_months  \\\n",
            "0       1   35        0      4                    7                27   \n",
            "1       0   45        1     12                   14                13   \n",
            "2       1   51        0     21                    4                35   \n",
            "3       1   79        0      9                    3                21   \n",
            "4       0   80        0     17                    3                 8   \n",
            "\n",
            "   value_deal  phone_service  multiple_lines  internet_service  ...  contract  \\\n",
            "0           5              1               0                 1  ...         1   \n",
            "1           5              1               1                 1  ...         0   \n",
            "2           4              1               0                 1  ...         0   \n",
            "3           3              1               0                 1  ...         0   \n",
            "4           5              1               0                 1  ...         0   \n",
            "\n",
            "   paperless_billing  payment_method  monthly_charge  total_charges  \\\n",
            "0                  1               1            65.6         593.30   \n",
            "1                  0               1            -4.0         542.40   \n",
            "2                  1               0            73.9         280.85   \n",
            "3                  1               0            98.0        1237.85   \n",
            "4                  1               1            83.9         267.40   \n",
            "\n",
            "   total_refunds  total_extra_data_charges  total_long_distance_charges  \\\n",
            "0           0.00                       0.0                       381.51   \n",
            "1          38.33                      10.0                        96.21   \n",
            "2           0.00                       0.0                       134.60   \n",
            "3           0.00                       0.0                       361.66   \n",
            "4           0.00                       0.0                        22.14   \n",
            "\n",
            "   total_revenue  customer_status  \n",
            "0         974.81           Stayed  \n",
            "1         610.28           Stayed  \n",
            "2         415.45          Churned  \n",
            "3        1599.51          Churned  \n",
            "4         289.54          Churned  \n",
            "\n",
            "[5 rows x 29 columns]\n"
          ]
        }
      ]
    },
    {
      "cell_type": "code",
      "source": [
        "# Manually encode the target variable 'customer_status'\n",
        "# Ensure there are no unexpected values beyond 'Stayed' and 'Churned'\n",
        "data_encoded['customer_status'] = data_encoded['customer_status'].map({'Stayed': 0, 'Churned': 1})\n",
        "\n",
        "# Drop rows where 'customer_status' became NaN (e.g., if there were unexpected values not mapped)\n",
        "data_encoded.dropna(subset=['customer_status'], inplace=True)\n",
        "data_encoded['customer_status'] = data_encoded['customer_status'].astype(int) # Ensure it's integer\n",
        "\n",
        "# Split data into features (X) and target (y)\n",
        "X = data_encoded.drop('customer_status', axis=1)\n",
        "y = data_encoded['customer_status']\n",
        "\n",
        "# Split data into training and testing sets\n",
        "# stratify=y ensures that the proportion of target variable categories (churned/stayed)\n",
        "# is the same in both train and test sets, which is important for imbalanced datasets.\n",
        "X_train, X_test, y_train, y_test = train_test_split(X, y, test_size=0.2, random_state=42, stratify=y)\n",
        "\n",
        "print(f\"\\nTraining features shape: {X_train.shape}\")\n",
        "print(f\"Testing features shape: {X_test.shape}\")\n",
        "print(f\"Training target shape: {y_train.shape}\")\n",
        "print(f\"Testing target shape: {y_test.shape}\")"
      ],
      "metadata": {
        "id": "Sjmudukr9VEM",
        "outputId": "4eec34ff-2a0e-40a8-eafc-85cfd0b20f19",
        "colab": {
          "base_uri": "https://localhost:8080/"
        }
      },
      "execution_count": 14,
      "outputs": [
        {
          "output_type": "stream",
          "name": "stdout",
          "text": [
            "\n",
            "Training features shape: (4805, 28)\n",
            "Testing features shape: (1202, 28)\n",
            "Training target shape: (4805,)\n",
            "Testing target shape: (1202,)\n"
          ]
        }
      ]
    },
    {
      "cell_type": "code",
      "source": [
        "# Initialize the Random Forest Classifier\n",
        "# n_estimators: Number of trees in the forest.\n",
        "# random_state: For reproducibility.\n",
        "# class_weight='balanced': Automatically adjusts weights inversely proportional to class frequencies,\n",
        "#                          helpful for imbalanced datasets (e.g., fewer churners than non-churners).\n",
        "rf_model = RandomForestClassifier(n_estimators=100, random_state=42, class_weight='balanced')\n",
        "\n",
        "# Train the model\n",
        "print(\"\\n--- Training Random Forest Model ---\")\n",
        "rf_model.fit(X_train, y_train)\n",
        "print(\"Model training complete.\")"
      ],
      "metadata": {
        "id": "TNl4EhXk9Y7k",
        "outputId": "ee44db34-0a70-4727-dcad-38c8e15441cc",
        "colab": {
          "base_uri": "https://localhost:8080/"
        }
      },
      "execution_count": 15,
      "outputs": [
        {
          "output_type": "stream",
          "name": "stdout",
          "text": [
            "\n",
            "--- Training Random Forest Model ---\n",
            "Model training complete.\n"
          ]
        }
      ]
    },
    {
      "cell_type": "code",
      "source": [
        "# Make predictions on the test set\n",
        "y_pred = rf_model.predict(X_test)\n",
        "\n",
        "# Evaluate the model\n",
        "print(\"\\n--- Evaluating Model Performance ---\")\n",
        "print(\"Confusion Matrix:\")\n",
        "# [[True Negatives (correctly predicted Stayed), False Positives (predicted Churn, actually Stayed)],\n",
        "#  [False Negatives (predicted Stayed, actually Churn), True Positives (correctly predicted Churn)]]\n",
        "print(confusion_matrix(y_test, y_pred))\n",
        "\n",
        "print(\"\\nClassification Report:\")\n",
        "# Precision: Of all predicted positives, how many were truly positive?\n",
        "# Recall: Of all actual positives, how many were correctly predicted?\n",
        "# F1-score: Harmonic mean of precision and recall.\n",
        "# Support: Number of actual occurrences of the class in the specified dataset.\n",
        "print(classification_report(y_test, y_pred))"
      ],
      "metadata": {
        "id": "Y9fSJ5Gt9bPQ",
        "outputId": "477d4a28-1ca4-48bd-a060-a8126f1fa880",
        "colab": {
          "base_uri": "https://localhost:8080/"
        }
      },
      "execution_count": 16,
      "outputs": [
        {
          "output_type": "stream",
          "name": "stdout",
          "text": [
            "\n",
            "--- Evaluating Model Performance ---\n",
            "Confusion Matrix:\n",
            "[[817  38]\n",
            " [139 208]]\n",
            "\n",
            "Classification Report:\n",
            "              precision    recall  f1-score   support\n",
            "\n",
            "           0       0.85      0.96      0.90       855\n",
            "           1       0.85      0.60      0.70       347\n",
            "\n",
            "    accuracy                           0.85      1202\n",
            "   macro avg       0.85      0.78      0.80      1202\n",
            "weighted avg       0.85      0.85      0.84      1202\n",
            "\n"
          ]
        }
      ]
    },
    {
      "cell_type": "code",
      "source": [
        "# Feature Selection using Feature Importance\n",
        "importances = rf_model.feature_importances_\n",
        "indices = np.argsort(importances)[::-1] # Get indices that would sort importances in descending order\n",
        "\n",
        "# Create a DataFrame for better plotting\n",
        "feature_importances_df = pd.DataFrame({\n",
        "    'Feature': X.columns[indices], # Use X.columns as feature names\n",
        "    'Importance': importances[indices]\n",
        "})\n",
        "\n",
        "# Plot the top 15 feature importances\n",
        "plt.figure(figsize=(12, 8))\n",
        "sns.barplot(x='Importance', y='Feature', data=feature_importances_df.head(15), palette='viridis') # Top 15 features\n",
        "plt.title('Top 15 Feature Importances for Churn Prediction')\n",
        "plt.xlabel('Relative Importance')\n",
        "plt.ylabel('Feature Names')\n",
        "plt.tight_layout() # Adjust layout to prevent labels from overlapping\n",
        "plt.show()"
      ],
      "metadata": {
        "id": "LEAw2Qe19h9g",
        "outputId": "f6f8b9fd-0267-45b6-e062-aa192dda611c",
        "colab": {
          "base_uri": "https://localhost:8080/",
          "height": 796
        }
      },
      "execution_count": 17,
      "outputs": [
        {
          "output_type": "stream",
          "name": "stderr",
          "text": [
            "/tmp/ipython-input-17-2782042460.py:13: FutureWarning: \n",
            "\n",
            "Passing `palette` without assigning `hue` is deprecated and will be removed in v0.14.0. Assign the `y` variable to `hue` and set `legend=False` for the same effect.\n",
            "\n",
            "  sns.barplot(x='Importance', y='Feature', data=feature_importances_df.head(15), palette='viridis') # Top 15 features\n"
          ]
        },
        {
          "output_type": "display_data",
          "data": {
            "text/plain": [
              "<Figure size 1200x800 with 1 Axes>"
            ],
            "image/png": "[encoded data removed]"
          },
          "metadata": {}
        }
      ]
    },
    {
      "cell_type": "code",
      "source": [
        "# --- Use Model for Prediction on New Data (vw_JoinData) ---\n",
        "print(\"\\n--- Preparing New Data for Prediction ---\")\n",
        "# Read the new data from the vw_JoinData CSV\n",
        "new_data = pd.read_csv(file_path_join_data)\n",
        "\n",
        "# Display the first few rows of the fetched data\n",
        "print(\"New Data (vw_JoinData) Head:\")\n",
        "print(new_data.head())\n",
        "\n",
        "# Retain the original DataFrame to preserve unencoded columns and 'customer_id' for output\n",
        "original_data_for_output = new_data.copy()\n",
        "\n",
        "# Drop columns that won't be used as features for prediction from the new_data DataFrame.\n",
        "# 'customer_status', 'churn_category', 'churn_reason' are not features for prediction.\n",
        "# 'customer_id' is dropped from new_data_features because it's not a feature for the model,\n",
        "# but it's preserved in original_data_for_output.\n",
        "new_data_features = new_data.drop(['customer_id', 'customer_status', 'churn_category', 'churn_reason'], axis=1)\n",
        "\n",
        "print(\"\\n--- New data features (before encoding) ---\")\n",
        "print(new_data_features.head())"
      ],
      "metadata": {
        "id": "TP-r8yct9kRp",
        "outputId": "08edc8d1-fe92-4a8d-e909-4c3f4adcc520",
        "colab": {
          "base_uri": "https://localhost:8080/"
        }
      },
      "execution_count": 18,
      "outputs": [
        {
          "output_type": "stream",
          "name": "stdout",
          "text": [
            "\n",
            "--- Preparing New Data for Prediction ---\n",
            "New Data (vw_JoinData) Head:\n",
            "  customer_id  gender  age married           state  number_of_referrals  \\\n",
            "0   93520-GUJ  Female   67      No         Gujarat                   13   \n",
            "1   57256-BIH  Female   18      No           Bihar                    9   \n",
            "2   72357-MAD  Female   53      No  Madhya Pradesh                   14   \n",
            "3   66612-KAR  Female   58     Yes       Karnataka                   11   \n",
            "4   22119-WES    Male   31     Yes     West Bengal                    5   \n",
            "\n",
            "   tenure_in_months value_deal phone_service multiple_lines  ...  \\\n",
            "0                19     Deal 5           Yes            Yes  ...   \n",
            "1                 7        NaN           Yes             No  ...   \n",
            "2                12     Deal 5           Yes             No  ...   \n",
            "3                18        NaN           Yes             No  ...   \n",
            "4                 5        NaN           Yes             No  ...   \n",
            "\n",
            "    payment_method monthly_charge total_charges total_refunds  \\\n",
            "0  Bank Withdrawal          72.10          72.1           0.0   \n",
            "1      Credit Card          19.85          57.2           0.0   \n",
            "2      Credit Card          44.30          44.3           0.0   \n",
            "3      Credit Card          19.95          58.0           0.0   \n",
            "4      Credit Card          20.05          33.7           0.0   \n",
            "\n",
            "  total_extra_data_charges total_long_distance_charges total_revenue  \\\n",
            "0                      0.0                        7.77         79.87   \n",
            "1                      0.0                        9.36         66.56   \n",
            "2                      0.0                       42.95         87.25   \n",
            "3                      0.0                        8.07         66.07   \n",
            "4                      0.0                        3.62         37.32   \n",
            "\n",
            "  customer_status churn_category churn_reason  \n",
            "0          Joined         Others       Others  \n",
            "1          Joined         Others       Others  \n",
            "2          Joined         Others       Others  \n",
            "3          Joined         Others       Others  \n",
            "4          Joined         Others       Others  \n",
            "\n",
            "[5 rows x 32 columns]\n",
            "\n",
            "--- New data features (before encoding) ---\n",
            "   gender  age married           state  number_of_referrals  tenure_in_months  \\\n",
            "0  Female   67      No         Gujarat                   13                19   \n",
            "1  Female   18      No           Bihar                    9                 7   \n",
            "2  Female   53      No  Madhya Pradesh                   14                12   \n",
            "3  Female   58     Yes       Karnataka                   11                18   \n",
            "4    Male   31     Yes     West Bengal                    5                 5   \n",
            "\n",
            "  value_deal phone_service multiple_lines internet_service  ...  \\\n",
            "0     Deal 5           Yes            Yes              Yes  ...   \n",
            "1        NaN           Yes             No               No  ...   \n",
            "2     Deal 5           Yes             No              Yes  ...   \n",
            "3        NaN           Yes             No               No  ...   \n",
            "4        NaN           Yes             No               No  ...   \n",
            "\n",
            "  unlimited_data        contract paperless_billing   payment_method  \\\n",
            "0            Yes        One Year               Yes  Bank Withdrawal   \n",
            "1             No  Month-to-Month                No      Credit Card   \n",
            "2            Yes  Month-to-Month               Yes      Credit Card   \n",
            "3             No  Month-to-Month                No      Credit Card   \n",
            "4             No  Month-to-Month                No      Credit Card   \n",
            "\n",
            "  monthly_charge total_charges total_refunds total_extra_data_charges  \\\n",
            "0          72.10          72.1           0.0                      0.0   \n",
            "1          19.85          57.2           0.0                      0.0   \n",
            "2          44.30          44.3           0.0                      0.0   \n",
            "3          19.95          58.0           0.0                      0.0   \n",
            "4          20.05          33.7           0.0                      0.0   \n",
            "\n",
            "  total_long_distance_charges total_revenue  \n",
            "0                        7.77         79.87  \n",
            "1                        9.36         66.56  \n",
            "2                       42.95         87.25  \n",
            "3                        8.07         66.07  \n",
            "4                        3.62         37.32  \n",
            "\n",
            "[5 rows x 28 columns]\n"
          ]
        }
      ]
    },
    {
      "cell_type": "code",
      "source": [
        "# Encode categorical variables in new_data_features using the *already fitted* label encoders.\n",
        "# It's crucial to use .transform() here, not .fit_transform().\n",
        "for column in columns_to_encode: # Use the same list of columns encoded for training\n",
        "    if column in new_data_features.columns and new_data_features[column].dtype == 'object':\n",
        "        # Handle potential new categories in new_data not seen in training data.\n",
        "        # LabelEncoder will raise a ValueError if it encounters an unseen category during transform().\n",
        "        # A simple way to handle this is to map unseen values to NaN and then fill,\n",
        "        # or ensure your data preprocessing step handles all possible categories.\n",
        "        # For simplicity, if a category is unseen, this will currently raise an error.\n",
        "        # You might need more robust handling for production systems.\n",
        "        try:\n",
        "            new_data_features[column] = label_encoders[column].transform(new_data_features[column])\n",
        "        except ValueError as e:\n",
        "            print(f\"Error encoding column '{column}': {e}. New data might contain unseen categories.\")\n",
        "            # Fallback: Convert unseen values to NaN, then fill (e.g., with 0 or a common value)\n",
        "            # This is a robust but potentially complex solution, depending on how you want to handle unknown data.\n",
        "            # Example: new_data_features[column] = new_data_features[column].map(\n",
        "            #     lambda s: label_encoders[column].transform([s])[0] if s in label_encoders[column].classes_ else -1)\n",
        "            # -1 would represent an 'unknown' category. You'd need to consider this in your model.\n",
        "\n",
        "            # For now, let's proceed with the direct transform and let it error if unseen categories exist.\n",
        "            raise # Re-raise the error to make it clear something went wrong.\n",
        "    else:\n",
        "        print(f\"Warning: Column '{column}' not found or not of object dtype in new data. Skipping encoding.\")\n",
        "\n",
        "print(\"\\n--- New data features (after encoding) ---\")\n",
        "print(new_data_features.head())\n",
        "\n",
        "# Make predictions\n",
        "new_predictions = rf_model.predict(new_data_features)\n",
        "\n",
        "# Add predictions to the original DataFrame\n",
        "original_data_for_output['customer_status_predicted'] = new_predictions\n",
        "\n",
        "print(\"\\n--- Original Data with Predictions Head ---\")\n",
        "print(original_data_for_output.head())"
      ],
      "metadata": {
        "id": "YAbs4JoS9pvG",
        "outputId": "a1338c05-0ef5-4377-94cc-47c804f683a5",
        "colab": {
          "base_uri": "https://localhost:8080/"
        }
      },
      "execution_count": 19,
      "outputs": [
        {
          "output_type": "stream",
          "name": "stdout",
          "text": [
            "\n",
            "--- New data features (after encoding) ---\n",
            "   gender  age  married  state  number_of_referrals  tenure_in_months  \\\n",
            "0       0   67        0      5                   13                19   \n",
            "1       0   18        0      2                    9                 7   \n",
            "2       0   53        0     11                   14                12   \n",
            "3       0   58        1      9                   11                18   \n",
            "4       1   31        1     21                    5                 5   \n",
            "\n",
            "   value_deal  phone_service  multiple_lines  internet_service  ...  \\\n",
            "0           4              1               1                 1  ...   \n",
            "1           5              1               0                 0  ...   \n",
            "2           4              1               0                 1  ...   \n",
            "3           5              1               0                 0  ...   \n",
            "4           5              1               0                 0  ...   \n",
            "\n",
            "   unlimited_data  contract  paperless_billing  payment_method  \\\n",
            "0               1         1                  1               0   \n",
            "1               0         0                  0               1   \n",
            "2               1         0                  1               1   \n",
            "3               0         0                  0               1   \n",
            "4               0         0                  0               1   \n",
            "\n",
            "   monthly_charge  total_charges  total_refunds  total_extra_data_charges  \\\n",
            "0           72.10           72.1            0.0                       0.0   \n",
            "1           19.85           57.2            0.0                       0.0   \n",
            "2           44.30           44.3            0.0                       0.0   \n",
            "3           19.95           58.0            0.0                       0.0   \n",
            "4           20.05           33.7            0.0                       0.0   \n",
            "\n",
            "   total_long_distance_charges  total_revenue  \n",
            "0                         7.77          79.87  \n",
            "1                         9.36          66.56  \n",
            "2                        42.95          87.25  \n",
            "3                         8.07          66.07  \n",
            "4                         3.62          37.32  \n",
            "\n",
            "[5 rows x 28 columns]\n",
            "\n",
            "--- Original Data with Predictions Head ---\n",
            "  customer_id  gender  age married           state  number_of_referrals  \\\n",
            "0   93520-GUJ  Female   67      No         Gujarat                   13   \n",
            "1   57256-BIH  Female   18      No           Bihar                    9   \n",
            "2   72357-MAD  Female   53      No  Madhya Pradesh                   14   \n",
            "3   66612-KAR  Female   58     Yes       Karnataka                   11   \n",
            "4   22119-WES    Male   31     Yes     West Bengal                    5   \n",
            "\n",
            "   tenure_in_months value_deal phone_service multiple_lines  ...  \\\n",
            "0                19     Deal 5           Yes            Yes  ...   \n",
            "1                 7        NaN           Yes             No  ...   \n",
            "2                12     Deal 5           Yes             No  ...   \n",
            "3                18        NaN           Yes             No  ...   \n",
            "4                 5        NaN           Yes             No  ...   \n",
            "\n",
            "  monthly_charge total_charges total_refunds total_extra_data_charges  \\\n",
            "0          72.10          72.1           0.0                      0.0   \n",
            "1          19.85          57.2           0.0                      0.0   \n",
            "2          44.30          44.3           0.0                      0.0   \n",
            "3          19.95          58.0           0.0                      0.0   \n",
            "4          20.05          33.7           0.0                      0.0   \n",
            "\n",
            "  total_long_distance_charges total_revenue customer_status churn_category  \\\n",
            "0                        7.77         79.87          Joined         Others   \n",
            "1                        9.36         66.56          Joined         Others   \n",
            "2                       42.95         87.25          Joined         Others   \n",
            "3                        8.07         66.07          Joined         Others   \n",
            "4                        3.62         37.32          Joined         Others   \n",
            "\n",
            "  churn_reason customer_status_predicted  \n",
            "0       Others                         1  \n",
            "1       Others                         1  \n",
            "2       Others                         1  \n",
            "3       Others                         1  \n",
            "4       Others                         1  \n",
            "\n",
            "[5 rows x 33 columns]\n"
          ]
        }
      ]
    },
    {
      "cell_type": "code",
      "source": [
        "# Filter the DataFrame to include only records predicted as \"Churned\" (where predicted status is 1)\n",
        "predicted_churners_df = original_data_for_output[original_data_for_output['customer_status_predicted'] == 1].copy()\n",
        "\n",
        "# Convert numerical predicted status back to 'Churned' for clarity in the output CSV\n",
        "predicted_churners_df['customer_status_predicted'] = predicted_churners_df['customer_status_predicted'].map({1: 'Churned'})\n",
        "\n",
        "# Save the results (replace 'yourusername' with your actual username)\n",
        "output_path = \"/churn_analysis/Predictions.csv\"\n",
        "predicted_churners_df.to_csv(output_path, index=False)\n",
        "\n",
        "print(f\"\\nPredictions saved to: {output_path}\")\n",
        "print(\"\\n--- Predicted Churners Data Head (only churned records) ---\")\n",
        "print(predicted_churners_df.head())\n",
        "print(f\"Total Predicted Churners: {len(predicted_churners_df)}\")\n",
        "\n",
        "# Optional: Save the trained model and label encoders for future use\n",
        "# joblib.dump(rf_model, 'random_forest_churn_model.pkl')\n",
        "# joblib.dump(label_encoders, 'label_encoders.pkl')\n",
        "# print(\"\\nModel and label encoders saved.\")"
      ],
      "metadata": {
        "id": "rGnNTBs79sb3",
        "outputId": "da75bccf-de2c-4d52-ddf6-abddc6103798",
        "colab": {
          "base_uri": "https://localhost:8080/"
        }
      },
      "execution_count": 21,
      "outputs": [
        {
          "output_type": "stream",
          "name": "stdout",
          "text": [
            "\n",
            "Predictions saved to: /churn_analysis/Predictions.csv\n",
            "\n",
            "--- Predicted Churners Data Head (only churned records) ---\n",
            "  customer_id  gender  age married           state  number_of_referrals  \\\n",
            "0   93520-GUJ  Female   67      No         Gujarat                   13   \n",
            "1   57256-BIH  Female   18      No           Bihar                    9   \n",
            "2   72357-MAD  Female   53      No  Madhya Pradesh                   14   \n",
            "3   66612-KAR  Female   58     Yes       Karnataka                   11   \n",
            "4   22119-WES    Male   31     Yes     West Bengal                    5   \n",
            "\n",
            "   tenure_in_months value_deal phone_service multiple_lines  ...  \\\n",
            "0                19     Deal 5           Yes            Yes  ...   \n",
            "1                 7        NaN           Yes             No  ...   \n",
            "2                12     Deal 5           Yes             No  ...   \n",
            "3                18        NaN           Yes             No  ...   \n",
            "4                 5        NaN           Yes             No  ...   \n",
            "\n",
            "  monthly_charge total_charges total_refunds total_extra_data_charges  \\\n",
            "0          72.10          72.1           0.0                      0.0   \n",
            "1          19.85          57.2           0.0                      0.0   \n",
            "2          44.30          44.3           0.0                      0.0   \n",
            "3          19.95          58.0           0.0                      0.0   \n",
            "4          20.05          33.7           0.0                      0.0   \n",
            "\n",
            "  total_long_distance_charges total_revenue customer_status churn_category  \\\n",
            "0                        7.77         79.87          Joined         Others   \n",
            "1                        9.36         66.56          Joined         Others   \n",
            "2                       42.95         87.25          Joined         Others   \n",
            "3                        8.07         66.07          Joined         Others   \n",
            "4                        3.62         37.32          Joined         Others   \n",
            "\n",
            "  churn_reason customer_status_predicted  \n",
            "0       Others                   Churned  \n",
            "1       Others                   Churned  \n",
            "2       Others                   Churned  \n",
            "3       Others                   Churned  \n",
            "4       Others                   Churned  \n",
            "\n",
            "[5 rows x 33 columns]\n",
            "Total Predicted Churners: 378\n"
          ]
        }
      ]
    },
    {
      "cell_type": "code",
      "source": [],
      "metadata": {
        "id": "UOwYFBIc9uEV"
      },
      "execution_count": null,
      "outputs": []
    }
  ],
  "metadata": {
    "colab": {
      "name": "Welcome To Colab",
      "provenance": []
    },
    "kernelspec": {
      "display_name": "Python 3",
      "name": "python3"
    }
  },
  "nbformat": 4,
  "nbformat_minor": 0
}